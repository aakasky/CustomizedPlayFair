{
 "cells": [
  {
   "cell_type": "code",
   "execution_count": 1,
   "metadata": {},
   "outputs": [],
   "source": [
    "prt = [['P','R','A','N','I','J','9'],\n",
    "       ['L','S','U','D','H','8','4'],\n",
    "       ['M','B','E','K','Y','7','3'],\n",
    "       ['T','C','W','O','G','6','2'],\n",
    "       ['Z','F','V','X','Q','0','1'],\n",
    "       ['!','@','(','%','&','?','<'],\n",
    "       ['>','_','-',\"'\",')',' ','5']]"
   ]
  },
  {
   "cell_type": "code",
   "execution_count": 2,
   "metadata": {},
   "outputs": [],
   "source": [
    "def index_2d(List, v):\n",
    "    for i, x in enumerate(List):\n",
    "        if v in x:\n",
    "            return [i, x.index(v)]\n",
    "        \n",
    "def Seq(a,prt):\n",
    "    t = []\n",
    "    for i in range(7):\n",
    "        for j in range(7):\n",
    "            w = index_2d(a,prt[i][j])\n",
    "            t.append(w[0])\n",
    "            t.append(w[1])\n",
    "        u = \"\"\n",
    "    for i in t:\n",
    "        u += str(i)\n",
    "    return(int(u))"
   ]
  },
  {
   "cell_type": "code",
   "execution_count": 3,
   "metadata": {},
   "outputs": [],
   "source": [
    "def decoder(a,t):\n",
    "    \n",
    "    prt = [['P','R','A','N','I','J','9'],\n",
    "           ['L','S','U','D','H','8','4'],\n",
    "           ['M','B','E','K','Y','7','3'],\n",
    "           ['T','C','W','O','G','6','2'],\n",
    "           ['Z','F','V','X','Q','0','1'],\n",
    "           ['!','@','(','%','&','?','<'],\n",
    "           ['>','_','-',\"'\",')',' ','5']]\n",
    "    \n",
    "    u = []\n",
    "    i = 0\n",
    "    while(len(u)!=49):\n",
    "        u.append((t[i],t[i+1]))\n",
    "        i += 2\n",
    "    \n",
    "    x = [[0 for b in range(7)] for d in range(7)]\n",
    "    k = 0\n",
    "    for i in range(7):\n",
    "        for j in range(7):\n",
    "            x[int(u[k][0])][int(u[k][1])]=prt[i][j]\n",
    "            k += 1\n",
    "    \n",
    "    \n",
    "    \n",
    "    i = 0\n",
    "    v = ''\n",
    "    h = a\n",
    "    h = list(map(str,h))\n",
    "    while(i!=len(h)):\n",
    "        p = index_2d(x,h[i].upper())\n",
    "        q = index_2d(x,h[i+1].upper())\n",
    "        if p[0]==q[0]:\n",
    "            v += x[p[0]][p[1]-1]\n",
    "            v += x[q[0]][q[1]-1]\n",
    "        elif p[1]==q[1]:\n",
    "            v += x[p[0]-1][p[1]]\n",
    "            v += x[q[0]-1][q[1]]\n",
    "        else:\n",
    "            if p[1]<q[1]:\n",
    "                v += x[p[0]][p[1]+(q[1]-p[1])]\n",
    "                v += x[q[0]][q[1]-(q[1]-p[1])]\n",
    "            else:\n",
    "                v += x[p[0]][p[1]-(p[1]-q[1])]\n",
    "                v += x[q[0]][q[1]+(p[1]-q[1])]\n",
    "        i = i + 2\n",
    "    return(v)"
   ]
  },
  {
   "cell_type": "code",
   "execution_count": 15,
   "metadata": {},
   "outputs": [],
   "source": [
    "def encode(k, c):\n",
    "    prt = [['P','R','A','N','I','J','9'],\n",
    "          ['L','S','U','D','H','8','4'],\n",
    "          ['M','B','E','K','Y','7','3'],\n",
    "          ['T','C','W','O','G','6','2'],\n",
    "          ['Z','F','V','X','Q','0','1'],\n",
    "          ['!','@','(','%','&','?','<'],\n",
    "          ['>','_','-',\"'\",')',' ','5']]\n",
    "    \n",
    "    \n",
    "    u = dict(zip(range(49),\"ABCDEFGHIJKLMNOPQRSTUVWXYZ0123456789!@)(%&?<>_-' \"))\n",
    "    j = []\n",
    "    for i in k:\n",
    "        if i not in j:\n",
    "            j.append(i.upper())\n",
    "    from random import randint\n",
    "    while(len(j)!=49):\n",
    "        i = randint(0,48)\n",
    "        if u[i] not in j:\n",
    "            j.append(u[i])\n",
    "    \n",
    "    w = 0\n",
    "    a = [[0 for b in range(7)] for d in range(7)]\n",
    "    for x in range(0,7):\n",
    "        for y in range(0,7):\n",
    "            a[x][y]=j[w]\n",
    "            w += 1\n",
    "    print(a)\n",
    "    \n",
    "    r = list(map(str,m))\n",
    "    for i in range(len(r)-1):\n",
    "        if r[i]==r[i+1]:\n",
    "            r.insert(i+1,'X')\n",
    "    if len(r)%2!=0:\n",
    "        r.append('X')\n",
    "    print(r)\n",
    "    \n",
    "    \n",
    "    \n",
    "    i = 0\n",
    "    t = ''\n",
    "    while(i!=len(r)):\n",
    "        p = index_2d(a,r[i].upper())\n",
    "        q = index_2d(a,r[i+1].upper())\n",
    "        if p[0]==q[0]:\n",
    "            if p[1]==6:\n",
    "                p[1]=-1\n",
    "            t += a[p[0]][p[1]+1]\n",
    "            if q[1]==6:\n",
    "                q[1]=-1\n",
    "            t += a[q[0]][q[1]+1]\n",
    "        elif p[1]==q[1]:\n",
    "            if p[0] == 6:\n",
    "                p[0] = -1\n",
    "            elif q[0] ==6:\n",
    "                q[0] = -1\n",
    "            t += a[p[0]+1][p[1]]\n",
    "            t += a[q[0]+1][q[1]]\n",
    "        else:\n",
    "            if p[1]<q[1]:\n",
    "                t += a[p[0]][p[1]+(q[1]-p[1])]\n",
    "                t += a[q[0]][q[1]-(q[1]-p[1])]\n",
    "            else:\n",
    "                t += a[p[0]][p[1]-(p[1]-q[1])]\n",
    "                t += a[q[0]][q[1]+(p[1]-q[1])]          \n",
    "        i = i + 2\n",
    "        q = Seq(a,prt)\n",
    "    return([t,q])"
   ]
  },
  {
   "cell_type": "code",
   "execution_count": 16,
   "metadata": {},
   "outputs": [],
   "source": [
    "m = 'H'\n",
    "k = 'PRAN'"
   ]
  },
  {
   "cell_type": "code",
   "execution_count": 17,
   "metadata": {},
   "outputs": [
    {
     "name": "stdout",
     "output_type": "stream",
     "text": [
      "[['H', 'O', 'J', \"'\", 'I', '4', '9'], ['6', '1', 'P', 'T', '@', '!', '<'], ['0', 'Z', 'B', ')', '-', '8', 'M'], ['E', '2', '5', 'V', 'Q', '&', 'U'], ['C', 'L', 'W', 'F', 'N', 'Y', '('], [' ', 'R', 'X', '%', 'S', '?', '7'], ['D', '>', 'A', '3', '_', 'K', 'G']]\n",
      "['H', 'X']\n"
     ]
    },
    {
     "data": {
      "text/plain": [
       "['J ',\n",
       " 12516244040206415436600025052622306545566313404201661031214333523420111514465335551661642403235032]"
      ]
     },
     "execution_count": 17,
     "metadata": {},
     "output_type": "execute_result"
    }
   ],
   "source": [
    "encode(m,k)"
   ]
  },
  {
   "cell_type": "code",
   "execution_count": 18,
   "metadata": {},
   "outputs": [],
   "source": [
    "a = 'J '\n",
    "t = '12516244040206415436600025052622306545566313404201661031214333523420111514465335551661642403235032'"
   ]
  },
  {
   "cell_type": "code",
   "execution_count": 19,
   "metadata": {},
   "outputs": [
    {
     "data": {
      "text/plain": [
       "'HX'"
      ]
     },
     "execution_count": 19,
     "metadata": {},
     "output_type": "execute_result"
    }
   ],
   "source": [
    "decoder(a,t)"
   ]
  },
  {
   "cell_type": "code",
   "execution_count": 9,
   "metadata": {},
   "outputs": [
    {
     "data": {
      "text/plain": [
       "98"
      ]
     },
     "execution_count": 9,
     "metadata": {},
     "output_type": "execute_result"
    }
   ],
   "source": [
    "len(t)"
   ]
  },
  {
   "cell_type": "code",
   "execution_count": null,
   "metadata": {},
   "outputs": [],
   "source": []
  },
  {
   "cell_type": "code",
   "execution_count": null,
   "metadata": {},
   "outputs": [],
   "source": []
  }
 ],
 "metadata": {
  "kernelspec": {
   "display_name": "Python 3 (ipykernel)",
   "language": "python",
   "name": "python3"
  },
  "language_info": {
   "codemirror_mode": {
    "name": "ipython",
    "version": 3
   },
   "file_extension": ".py",
   "mimetype": "text/x-python",
   "name": "python",
   "nbconvert_exporter": "python",
   "pygments_lexer": "ipython3",
   "version": "3.8.12"
  }
 },
 "nbformat": 4,
 "nbformat_minor": 4
}
